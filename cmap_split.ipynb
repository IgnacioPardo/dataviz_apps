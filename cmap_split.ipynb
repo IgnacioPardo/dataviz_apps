{
 "cells": [
  {
   "cell_type": "code",
   "execution_count": 2,
   "metadata": {},
   "outputs": [],
   "source": [
    "import matplotlib as mpl\n",
    "import matplotlib.pyplot as plt\n",
    "import numpy as np\n"
   ]
  },
  {
   "cell_type": "code",
   "execution_count": 3,
   "metadata": {},
   "outputs": [],
   "source": [
    "cmaps = {}\n",
    "\n",
    "gradient = np.linspace(0, 1, 256)\n",
    "gradient = np.vstack((gradient, gradient))\n",
    "\n",
    "def plot_color_gradients(category, cmap_list):\n",
    "    # Create figure and adjust figure height to number of colormaps\n",
    "    nrows = len(cmap_list)\n",
    "    figh = 0.35 + 0.15 + (nrows + (nrows - 1) * 0.1) * 0.22\n",
    "    fig, axs = plt.subplots(nrows=nrows + 1, figsize=(6.4, figh))\n",
    "    fig.subplots_adjust(top=1 - 0.35 / figh, bottom=0.15 / figh,\n",
    "                        left=0.2, right=0.99)\n",
    "    axs[0].set_title(f'{category} colormaps', fontsize=14)\n",
    "\n",
    "    for ax, name in zip(axs, cmap_list):\n",
    "        ax.imshow(gradient, aspect='auto', cmap=mpl.colormaps[name])\n",
    "        ax.text(-0.01, 0.5, name, va='center', ha='right', fontsize=10,\n",
    "                transform=ax.transAxes)\n",
    "\n",
    "    # Turn off *all* ticks & spines, not just the ones with colormaps.\n",
    "    for ax in axs:\n",
    "        ax.set_axis_off()\n",
    "\n",
    "    # Save colormap list for later.\n",
    "    cmaps[category] = cmap_list"
   ]
  },
  {
   "cell_type": "code",
   "execution_count": 4,
   "metadata": {},
   "outputs": [
    {
     "data": {
      "image/png": "[encoded data removed]",
      "text/plain": [
       "<Figure size 640x72 with 2 Axes>"
      ]
     },
     "metadata": {},
     "output_type": "display_data"
    }
   ],
   "source": [
    "plot_color_gradients('PuRd', ['PuRd'])"
   ]
  },
  {
   "cell_type": "code",
   "execution_count": 5,
   "metadata": {},
   "outputs": [
    {
     "name": "stderr",
     "output_type": "stream",
     "text": [
      "/var/folders/5j/7b3w3dw95qdcll87vxc3yn300000gn/T/ipykernel_79490/1118683164.py:7: MatplotlibDeprecationWarning: The get_cmap function was deprecated in Matplotlib 3.7 and will be removed two minor releases later. Use ``matplotlib.colormaps[name]`` or ``matplotlib.colormaps.get_cmap(obj)`` instead.\n",
      "  purd_cmap = mpl.cm.get_cmap('PuRd')\n"
     ]
    },
    {
     "data": {
      "image/png": "[encoded data removed]",
      "text/html": [
       "<div style=\"vertical-align: middle;\"><strong>PuRd_3/4</strong> </div><div class=\"cmap\"><img alt=\"PuRd_3/4 colormap\" title=\"PuRd_3/4\" style=\"border: 1px solid #555;\" src=\"data:image/png;base64,iVBORw0KGgoAAAANSUhEUgAAAgAAAABACAYAAABsv8+/AAAAF3RFWHRUaXRsZQBQdVJkXzMvNCBjb2xvcm1hcEXMLt4AAAAddEVYdERlc2NyaXB0aW9uAFB1UmRfMy80IGNvbG9ybWFwbLLJ9wAAADB0RVh0QXV0aG9yAE1hdHBsb3RsaWIgdjMuNy4xLCBodHRwczovL21hdHBsb3RsaWIub3JnKq/4TQAAADJ0RVh0U29mdHdhcmUATWF0cGxvdGxpYiB2My43LjEsIGh0dHBzOi8vbWF0cGxvdGxpYi5vcmcECWdqAAACyElEQVR4nO3WQZKbMBAFUPD9FzlfzjFVqQQhsrAECDPU7P97G9nqFoIZi/rzn6+/29TU+v64bX2cdsdcG+s4f7duqNVrz8MedRynaZq2tc/V4Xv9Qc9wzbWOzzr01Mt12h5tzfvL5R5P64/aZf96dx+9Vr+t7c8/PGMd5ubT/q9W63Nz+/469TzXxrm5jte73+M9vpb1+DuU9+e5tHstxzPO6zrMzWW96enrLte5m1sv1zlda6vvuW07arWWYa72sR4921aGucf1dbzO0/p1O56jtP/f2n7z5XQQ+lzvL9vYe7d+qLV112uvd3tM7d6m0721z+s+fvas3/Tc137e8+vr995zfR8NZ/3yrjh6p6Pno/Z5Duv1vXB+H5Q+9/k+qd/U6um3WvffYf2o7We8z9XL99M9bU+1dbz/bTgr7Wy2/V9LG2/O2l2tvwde7Wz1nuF9UPr6di7/ldP+rX8prdbP+vE7mK/rzvfW5npPX7eVY49al3Hs53Jd9p611fZzWI9a7zveA+P1pmmaljqew+X0zu6f+3la2tk791zXLfV8Dttc75lKGz/PSnmo9XXl5qw+1V4TABBHAACAQAIAAAQSAAAgkAAAAIEEAAAIJAAAQCABAAACCQAAEEgAAIBAAgAABBIAACCQAAAAgQQAAAgkAABAIAEAAAIJAAAQSAAAgEACAAAEEgAAIJAAAACBBAAACCQAAEAgAQAAAgkAABBIAACAQAIAAAQSAAAgkAAAAIEEAAAIJAAAQCABAAACCQAAEEgAAIBAAgAABBIAACCQAAAAgQQAAAgkAABAIAEAAAIJAAAQSAAAgEACAAAEEgAAIJAAAACBBAAACCQAAEAgAQAAAgkAABBIAACAQAIAAAQSAAAgkAAAAIEEAAAIJAAAQCABAAACCQAAEEgAAIBAAgAABBIAACCQAAAAgQQAAAgkAABAoP9BoDwjO6BSvgAAAABJRU5ErkJggg==\"></div><div style=\"vertical-align: middle; max-width: 514px; display: flex; justify-content: space-between;\"><div style=\"float: left;\"><div title=\"#f7f4f9ff\" style=\"display: inline-block; width: 1em; height: 1em; margin: 0; vertical-align: middle; border: 1px solid #555; background-color: #f7f4f9ff;\"></div> under</div><div style=\"margin: 0 auto; display: inline-block;\">bad <div title=\"#00000000\" style=\"display: inline-block; width: 1em; height: 1em; margin: 0; vertical-align: middle; border: 1px solid #555; background-color: #00000000;\"></div></div><div style=\"float: right;\">over <div title=\"#67001fff\" style=\"display: inline-block; width: 1em; height: 1em; margin: 0; vertical-align: middle; border: 1px solid #555; background-color: #67001fff;\"></div></div>"
      ],
      "text/plain": [
       "<matplotlib.colors.ListedColormap at 0x7fa02901caf0>"
      ]
     },
     "execution_count": 5,
     "metadata": {},
     "output_type": "execute_result"
    }
   ],
   "source": [
    "# Make custom colormaps, based on fraction of the original colormap\n",
    "\n",
    "# Original colormap: PuRd\n",
    "\n",
    "# Generate colormap with 1/4 of the original length, and 3/4 of the original length\n",
    "\n",
    "purd_cmap = mpl.cm.get_cmap('PuRd')\n",
    "purd_1 = purd_cmap(np.linspace(0, 1, 128))\n",
    "purd_2 = purd_cmap(np.linspace(0, 1, 96))\n",
    "\n",
    "# Combine them and plot the new colormap\n",
    "\n",
    "new_purd = np.vstack((purd_1, purd_2))\n",
    "new_purd_cmap = mpl.colors.ListedColormap(new_purd, name='PuRd_3/4')\n",
    "new_purd_cmap\n"
   ]
  },
  {
   "cell_type": "code",
   "execution_count": 6,
   "metadata": {},
   "outputs": [
    {
     "data": {
      "image/png": "[encoded data removed]",
      "text/html": [
       "<div style=\"vertical-align: middle;\"><strong>PuRd_10</strong> </div><div class=\"cmap\"><img alt=\"PuRd_10 colormap\" title=\"PuRd_10\" style=\"border: 1px solid #555;\" src=\"data:image/png;base64,iVBORw0KGgoAAAANSUhEUgAAAgAAAABACAYAAABsv8+/AAAAFnRFWHRUaXRsZQBQdVJkXzEwIGNvbG9ybWFwsXcIVwAAABx0RVh0RGVzY3JpcHRpb24AUHVSZF8xMCBjb2xvcm1hcBZZuS4AAAAwdEVYdEF1dGhvcgBNYXRwbG90bGliIHYzLjcuMSwgaHR0cHM6Ly9tYXRwbG90bGliLm9yZyqv+E0AAAAydEVYdFNvZnR3YXJlAE1hdHBsb3RsaWIgdjMuNy4xLCBodHRwczovL21hdHBsb3RsaWIub3JnBAlnagAAAmxJREFUeJzt1kFu5CAQBVB37n/ckUYjxTCLGLopN4my/u9tLHCZAtKK/uPvn3/9uPTer+ex6GViDkf9fDEefR2Xgj7nS90v13m319ueb2uve+6t9lib9baZHwu0vry/3U0r45cN97PM1T0MbV17vm+bnj/1Hp+fbRnfzrbrs2ym7Gl+sznL7X6+P8tuT/X+t3t/aV/v7fn8ejyu9/NZfhtzfKz1Y51HrZvrvK//OGvdZp3XmrLm/dvNmcpZPsbffrjdSVu/2zwf40e2q1vWWGsfn/NH8v79tvdmb0P9u2z6H+d5lY//CWU/x3H063zzOX/w7+ef9aXuWOdb/1x61T6z/61fqS/rftez7q31c+nxvM5rPO9gjNe63Xd1fmjzjr7Gn3MfL/dd1yzfPPcwepU9375bzzLqzvH+ejPrj3LWMn87y9HezL3/to7P4/y218/j9sv6+1k+DgAgjgAAAIEEAAAIJAAAQCABAAACCQAAEEgAAIBAAgAABBIAACCQAAAAgQQAAAgkAABAIAEAAAIJAAAQSAAAgEACAAAEEgAAIJAAAACBBAAACCQAAEAgAQAAAgkAABBIAACAQAIAAAQSAAAgkAAAAIEEAAAIJAAAQCABAAACCQAAEEgAAIBAAgAABBIAACCQAAAAgQQAAAgkAABAIAEAAAIJAAAQSAAAgEACAAAEEgAAIJAAAACBBAAACCQAAEAgAQAAAgkAABBIAACAQAIAAAQSAAAgkAAAAIEEAAAIJAAAQCABAAACCQAAEEgAAIBAAgAABBIAACCQAAAAgQQAAAgkAABAIAEAAAIJAAAQSAAAgED/Aepo6xSPQsPkAAAAAElFTkSuQmCC\"></div><div style=\"vertical-align: middle; max-width: 514px; display: flex; justify-content: space-between;\"><div style=\"float: left;\"><div title=\"#f7f4f9ff\" style=\"display: inline-block; width: 1em; height: 1em; margin: 0; vertical-align: middle; border: 1px solid #555; background-color: #f7f4f9ff;\"></div> under</div><div style=\"margin: 0 auto; display: inline-block;\">bad <div title=\"#00000000\" style=\"display: inline-block; width: 1em; height: 1em; margin: 0; vertical-align: middle; border: 1px solid #555; background-color: #00000000;\"></div></div><div style=\"float: right;\">over <div title=\"#67001fff\" style=\"display: inline-block; width: 1em; height: 1em; margin: 0; vertical-align: middle; border: 1px solid #555; background-color: #67001fff;\"></div></div>"
      ],
      "text/plain": [
       "<matplotlib.colors.ListedColormap at 0x7fa01902ebb0>"
      ]
     },
     "execution_count": 6,
     "metadata": {},
     "output_type": "execute_result"
    }
   ],
   "source": [
    "# Make custom colormaps, based on n partitions of the original colormap\n",
    "\n",
    "# Original colormap: PuRd\n",
    "\n",
    "n = 10\n",
    "\n",
    "purd_cmap = mpl.colormaps['PuRd']\n",
    "\n",
    "split_purd_list = []\n",
    "\n",
    "for i in range(0, n):\n",
    "    partition = purd_cmap(np.linspace(i/n, (i+1)/n, 256//n))\n",
    "    split_purd_list.append(partition)\n",
    "\n",
    "new_purd = np.vstack(split_purd_list)\n",
    "new_purd_cmap = mpl.colors.ListedColormap(new_purd, name=f'PuRd_{n}')\n",
    "new_purd_cmap\n"
   ]
  },
  {
   "cell_type": "code",
   "execution_count": null,
   "metadata": {},
   "outputs": [],
   "source": []
  },
  {
   "cell_type": "code",
   "execution_count": 10,
   "metadata": {},
   "outputs": [
    {
     "data": {
      "image/png": "[encoded data removed]",
      "text/plain": [
       "<Figure size 640x480 with 1 Axes>"
      ]
     },
     "metadata": {},
     "output_type": "display_data"
    }
   ],
   "source": [
    "def split_cmap(cmap_name, n):\n",
    "    cmap = mpl.colormaps[cmap_name]\n",
    "    split_list = []\n",
    "    for i in range(0, n):\n",
    "        partition = cmap(np.linspace(i/n, (i+1)/n, 256//n))\n",
    "        split_list.append(partition)\n",
    "    new_cmap = mpl.colors.ListedColormap(np.vstack(split_list), name=f'{cmap_name}_{n}')\n",
    "    return new_cmap\n",
    "\n",
    "splitted_cmap = split_cmap('PuRd', 10)\n",
    "\n",
    "plt.imshow(gradient, aspect='auto', cmap=splitted_cmap)\n",
    "\n",
    "# generator function\n",
    "\n",
    "def gen_cmap(cmap_name, n):\n",
    "    cmap = mpl.colormaps[cmap_name]\n",
    "    for i in range(0, n):\n",
    "        partition = cmap(np.linspace(i/n, (i+1)/n, 256//n))\n",
    "        split_cmap = mpl.colors.ListedColormap(partition, name=f'{cmap_name}_{n}')\n",
    "        yield split_cmap\n",
    "\n",
    "\"\"\" for cmap in gen_cmap('PuRd', 10):\n",
    "    plt.imshow(gradient, aspect='auto', cmap=cmap)\n",
    "    plt.show() \"\"\"\n",
    "\n",
    "plt.imshow(gradient, aspect='auto', cmap=\"gnuplot2\")\n",
    "plt.axis('off')\n",
    "plt.savefig('gnuplot2.png', dpi=300, bbox_inches='tight')"
   ]
  },
  {
   "cell_type": "code",
   "execution_count": 8,
   "metadata": {},
   "outputs": [
    {
     "data": {
      "image/png": "[encoded data removed]",
      "text/html": [
       "<div style=\"vertical-align: middle;\"><strong>PuRd</strong> </div><div class=\"cmap\"><img alt=\"PuRd colormap\" title=\"PuRd\" style=\"border: 1px solid #555;\" src=\"data:image/png;base64,iVBORw0KGgoAAAANSUhEUgAAAgAAAABACAYAAABsv8+/AAAAE3RFWHRUaXRsZQBQdVJkIGNvbG9ybWFwm2pOVgAAABl0RVh0RGVzY3JpcHRpb24AUHVSZCBjb2xvcm1hcBDY3s4AAAAwdEVYdEF1dGhvcgBNYXRwbG90bGliIHYzLjcuMSwgaHR0cHM6Ly9tYXRwbG90bGliLm9yZyqv+E0AAAAydEVYdFNvZnR3YXJlAE1hdHBsb3RsaWIgdjMuNy4xLCBodHRwczovL21hdHBsb3RsaWIub3JnBAlnagAAAjJJREFUeJzt1suOm0AURdFy/v9zI0WZUD2IC6cufYM9yOisNUFAPQC1W/vx6+fvOcYYc87x5zg2s1w4T9f488Y6zP28DGjX3w//Yb3meev4uW80j+b6WuiY2/3L9znK+c38y3Mc+/ju+mX9Zt9z/Wbfy/vd7Nd9t3H5bv9+nn797j33ee1zN9+tPs963sfz/DyW8ev8UdZ7lPvjnD+a8fv9UfZr17ud17zPm+/xOh77vOb4WH9o3f2yXnt/fj+u3795vvqdb/ZfP5Tzd/P6w30ejv046rz9+izrneNG2adcf3+/7+e/vd/rh/P8DOu9Z/k8869Rr3lHGdfNu1wv/6/rOp/PW+PL817m7e9xmbfGre8xynOUY71+N+/+fJ//+TrHh+P38x8DAIgjAAAgkAAAgEACAAACCQAACCQAACCQAACAQAIAAAIJAAAIJAAAIJAAAIBAAgAAAgkAAAgkAAAgkAAAgEACAAACCQAACCQAACCQAACAQAIAAAIJAAAIJAAAIJAAAIBAAgAAAgkAAAgkAAAgkAAAgEACAAACCQAACCQAACCQAACAQAIAAAIJAAAIJAAAIJAAAIBAAgAAAgkAAAgkAAAgkAAAgEACAAACCQAACCQAACCQAACAQAIAAAIJAAAIJAAAIJAAAIBAAgAAAgkAAAgkAAAgkAAAgEACAAACCQAACCQAACCQAACAQAIAAAIJAAAIJAAAIJAAAIBAAgAAAgkAAAgkAAAgkAAAgEBfHKoAI3psy4sAAAAASUVORK5CYII=\"></div><div style=\"vertical-align: middle; max-width: 514px; display: flex; justify-content: space-between;\"><div style=\"float: left;\"><div title=\"#f7f4f9ff\" style=\"display: inline-block; width: 1em; height: 1em; margin: 0; vertical-align: middle; border: 1px solid #555; background-color: #f7f4f9ff;\"></div> under</div><div style=\"margin: 0 auto; display: inline-block;\">bad <div title=\"#00000000\" style=\"display: inline-block; width: 1em; height: 1em; margin: 0; vertical-align: middle; border: 1px solid #555; background-color: #00000000;\"></div></div><div style=\"float: right;\">over <div title=\"#67001fff\" style=\"display: inline-block; width: 1em; height: 1em; margin: 0; vertical-align: middle; border: 1px solid #555; background-color: #67001fff;\"></div></div>"
      ],
      "text/plain": [
       "<matplotlib.colors.LinearSegmentedColormap at 0x7f9ff935e820>"
      ]
     },
     "execution_count": 8,
     "metadata": {},
     "output_type": "execute_result"
    }
   ],
   "source": [
    "purd_cmap"
   ]
  },
  {
   "cell_type": "code",
   "execution_count": 9,
   "metadata": {},
   "outputs": [
    {
     "data": {
      "image/png": "[encoded data removed]",
      "text/html": [
       "<div style=\"vertical-align: middle;\"><strong>PuRd_10</strong> </div><div class=\"cmap\"><img alt=\"PuRd_10 colormap\" title=\"PuRd_10\" style=\"border: 1px solid #555;\" src=\"data:image/png;base64,iVBORw0KGgoAAAANSUhEUgAAAgAAAABACAYAAABsv8+/AAAAFnRFWHRUaXRsZQBQdVJkXzEwIGNvbG9ybWFwsXcIVwAAABx0RVh0RGVzY3JpcHRpb24AUHVSZF8xMCBjb2xvcm1hcBZZuS4AAAAwdEVYdEF1dGhvcgBNYXRwbG90bGliIHYzLjcuMSwgaHR0cHM6Ly9tYXRwbG90bGliLm9yZyqv+E0AAAAydEVYdFNvZnR3YXJlAE1hdHBsb3RsaWIgdjMuNy4xLCBodHRwczovL21hdHBsb3RsaWIub3JnBAlnagAAAmxJREFUeJzt1kFu5CAQBVB37n/ckUYjxTCLGLopN4my/u9tLHCZAtKK/uPvn3/9uPTer+ex6GViDkf9fDEefR2Xgj7nS90v13m319ueb2uve+6t9lib9baZHwu0vry/3U0r45cN97PM1T0MbV17vm+bnj/1Hp+fbRnfzrbrs2ym7Gl+sznL7X6+P8tuT/X+t3t/aV/v7fn8ejyu9/NZfhtzfKz1Y51HrZvrvK//OGvdZp3XmrLm/dvNmcpZPsbffrjdSVu/2zwf40e2q1vWWGsfn/NH8v79tvdmb0P9u2z6H+d5lY//CWU/x3H063zzOX/w7+ef9aXuWOdb/1x61T6z/61fqS/rftez7q31c+nxvM5rPO9gjNe63Xd1fmjzjr7Gn3MfL/dd1yzfPPcwepU9375bzzLqzvH+ejPrj3LWMn87y9HezL3/to7P4/y218/j9sv6+1k+DgAgjgAAAIEEAAAIJAAAQCABAAACCQAAEEgAAIBAAgAABBIAACCQAAAAgQQAAAgkAABAIAEAAAIJAAAQSAAAgEACAAAEEgAAIJAAAACBBAAACCQAAEAgAQAAAgkAABBIAACAQAIAAAQSAAAgkAAAAIEEAAAIJAAAQCABAAACCQAAEEgAAIBAAgAABBIAACCQAAAAgQQAAAgkAABAIAEAAAIJAAAQSAAAgEACAAAEEgAAIJAAAACBBAAACCQAAEAgAQAAAgkAABBIAACAQAIAAAQSAAAgkAAAAIEEAAAIJAAAQCABAAACCQAAEEgAAIBAAgAABBIAACCQAAAAgQQAAAgkAABAIAEAAAIJAAAQSAAAgED/Aepo6xSPQsPkAAAAAElFTkSuQmCC\"></div><div style=\"vertical-align: middle; max-width: 514px; display: flex; justify-content: space-between;\"><div style=\"float: left;\"><div title=\"#f7f4f9ff\" style=\"display: inline-block; width: 1em; height: 1em; margin: 0; vertical-align: middle; border: 1px solid #555; background-color: #f7f4f9ff;\"></div> under</div><div style=\"margin: 0 auto; display: inline-block;\">bad <div title=\"#00000000\" style=\"display: inline-block; width: 1em; height: 1em; margin: 0; vertical-align: middle; border: 1px solid #555; background-color: #00000000;\"></div></div><div style=\"float: right;\">over <div title=\"#67001fff\" style=\"display: inline-block; width: 1em; height: 1em; margin: 0; vertical-align: middle; border: 1px solid #555; background-color: #67001fff;\"></div></div>"
      ],
      "text/plain": [
       "<matplotlib.colors.ListedColormap at 0x7fa01902ebb0>"
      ]
     },
     "execution_count": 9,
     "metadata": {},
     "output_type": "execute_result"
    }
   ],
   "source": [
    "new_purd_cmap"
   ]
  },
  {
   "cell_type": "code",
   "execution_count": null,
   "metadata": {},
   "outputs": [],
   "source": []
  }
 ],
 "metadata": {
  "kernelspec": {
   "display_name": "coding",
   "language": "python",
   "name": "python3"
  },
  "language_info": {
   "codemirror_mode": {
    "name": "ipython",
    "version": 3
   },
   "file_extension": ".py",
   "mimetype": "text/x-python",
   "name": "python",
   "nbconvert_exporter": "python",
   "pygments_lexer": "ipython3",
   "version": "3.8.12"
  },
  "orig_nbformat": 4
 },
 "nbformat": 4,
 "nbformat_minor": 2
}
